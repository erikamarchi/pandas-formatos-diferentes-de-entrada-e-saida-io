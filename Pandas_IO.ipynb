{
  "nbformat": 4,
  "nbformat_minor": 0,
  "metadata": {
    "colab": {
      "name": "Pandas_IO.ipynb",
      "provenance": [],
      "toc_visible": true,
      "authorship_tag": "ABX9TyMueDh8kaTsRRYXKcZo00IU",
      "include_colab_link": true
    },
    "kernelspec": {
      "name": "python3",
      "display_name": "Python 3"
    },
    "language_info": {
      "name": "python"
    }
  },
  "cells": [
    {
      "cell_type": "markdown",
      "metadata": {
        "id": "view-in-github",
        "colab_type": "text"
      },
      "source": [
        "<a href=\"https://colab.research.google.com/github/erikamarchi/pandas-formatos-diferentes-de-entrada-e-saida-io/blob/main/Pandas_IO.ipynb\" target=\"_parent\"><img src=\"https://colab.research.google.com/assets/colab-badge.svg\" alt=\"Open In Colab\"/></a>"
      ]
    },
    {
      "cell_type": "markdown",
      "metadata": {
        "id": "D5JA06KQ8hmM"
      },
      "source": [
        "#Fonte dos dados\n",
        "API de serviço de dados do IBGE utilizada para popular os nomes dos alunos"
      ]
    },
    {
      "cell_type": "code",
      "metadata": {
        "id": "FqtmkjPl61T7"
      },
      "source": [
        "import pandas as pd"
      ],
      "execution_count": 1,
      "outputs": []
    },
    {
      "cell_type": "code",
      "metadata": {
        "id": "7msGwYl07gfg"
      },
      "source": [
        "nomesConsideradosFemininos = pd.read_json('https://servicodados.ibge.gov.br/api/v1/censos/nomes/ranking?qtd=200&sexo=f')\n",
        "nomesConsideradosMasculinos = pd.read_json('https://servicodados.ibge.gov.br/api/v1/censos/nomes/ranking?qtd=200&sexo=m')"
      ],
      "execution_count": 2,
      "outputs": []
    },
    {
      "cell_type": "code",
      "metadata": {
        "colab": {
          "base_uri": "https://localhost:8080/"
        },
        "id": "qU7qIsDwjRry",
        "outputId": "01d3a17a-7fc0-4209-b411-5d6430d64598"
      },
      "source": [
        "print(f'Quantidade total de nomes {len(nomesConsideradosFemininos) + len(nomesConsideradosMasculinos)}')"
      ],
      "execution_count": 3,
      "outputs": [
        {
          "output_type": "stream",
          "name": "stdout",
          "text": [
            "Quantidade total de nomes 400\n"
          ]
        }
      ]
    },
    {
      "cell_type": "code",
      "metadata": {
        "colab": {
          "base_uri": "https://localhost:8080/"
        },
        "id": "SMehQR64jd13",
        "outputId": "211c48ff-7f8c-446f-edc6-7fbaf3fd838f"
      },
      "source": [
        "listaNomes = [nomesConsideradosFemininos,nomesConsideradosMasculinos]\n",
        "listaNomes"
      ],
      "execution_count": 4,
      "outputs": [
        {
          "output_type": "execute_result",
          "data": {
            "text/plain": [
              "[          nome  regiao      freq  rank sexo\n",
              " 0        MARIA       0  11694738     1    F\n",
              " 1          ANA       0   3079729     2    F\n",
              " 2    FRANCISCA       0    721637     3    F\n",
              " 3      ANTONIA       0    588783     4    F\n",
              " 4      ADRIANA       0    565621     5    F\n",
              " ..         ...     ...       ...   ...  ...\n",
              " 195     ROSANE       0     82203   196    F\n",
              " 196    IVONETE       0     81878   197    F\n",
              " 197    LUCIANE       0     81230   198    F\n",
              " 198    ISADORA       0     81100   199    F\n",
              " 199      NILZA       0     80128   200    F\n",
              " \n",
              " [200 rows x 5 columns],           nome  regiao     freq  rank sexo\n",
              " 0         JOSE       0  5732508     1    M\n",
              " 1         JOAO       0  2971935     2    M\n",
              " 2      ANTONIO       0  2567494     3    M\n",
              " 3    FRANCISCO       0  1765197     4    M\n",
              " 4       CARLOS       0  1483121     5    M\n",
              " ..         ...     ...      ...   ...  ...\n",
              " 195     WALTER       0    67207   196    M\n",
              " 196    ARLINDO       0    66669   197    M\n",
              " 197    MICHAEL       0    65736   198    M\n",
              " 198     ALVARO       0    65444   199    M\n",
              " 199    GEOVANE       0    65435   200    M\n",
              " \n",
              " [200 rows x 5 columns]]"
            ]
          },
          "metadata": {},
          "execution_count": 4
        }
      ]
    },
    {
      "cell_type": "code",
      "metadata": {
        "colab": {
          "base_uri": "https://localhost:8080/",
          "height": 419
        },
        "id": "ur4m_Ax1jnlx",
        "outputId": "cb60aefa-b1f1-4ff4-8eb5-276d278ba1eb"
      },
      "source": [
        "dfNomes = pd.concat(listaNomes)['nome'].to_frame()\n",
        "dfNomes"
      ],
      "execution_count": 8,
      "outputs": [
        {
          "output_type": "execute_result",
          "data": {
            "text/html": [
              "<div>\n",
              "<style scoped>\n",
              "    .dataframe tbody tr th:only-of-type {\n",
              "        vertical-align: middle;\n",
              "    }\n",
              "\n",
              "    .dataframe tbody tr th {\n",
              "        vertical-align: top;\n",
              "    }\n",
              "\n",
              "    .dataframe thead th {\n",
              "        text-align: right;\n",
              "    }\n",
              "</style>\n",
              "<table border=\"1\" class=\"dataframe\">\n",
              "  <thead>\n",
              "    <tr style=\"text-align: right;\">\n",
              "      <th></th>\n",
              "      <th>nome</th>\n",
              "    </tr>\n",
              "  </thead>\n",
              "  <tbody>\n",
              "    <tr>\n",
              "      <th>0</th>\n",
              "      <td>MARIA</td>\n",
              "    </tr>\n",
              "    <tr>\n",
              "      <th>1</th>\n",
              "      <td>ANA</td>\n",
              "    </tr>\n",
              "    <tr>\n",
              "      <th>2</th>\n",
              "      <td>FRANCISCA</td>\n",
              "    </tr>\n",
              "    <tr>\n",
              "      <th>3</th>\n",
              "      <td>ANTONIA</td>\n",
              "    </tr>\n",
              "    <tr>\n",
              "      <th>4</th>\n",
              "      <td>ADRIANA</td>\n",
              "    </tr>\n",
              "    <tr>\n",
              "      <th>...</th>\n",
              "      <td>...</td>\n",
              "    </tr>\n",
              "    <tr>\n",
              "      <th>195</th>\n",
              "      <td>WALTER</td>\n",
              "    </tr>\n",
              "    <tr>\n",
              "      <th>196</th>\n",
              "      <td>ARLINDO</td>\n",
              "    </tr>\n",
              "    <tr>\n",
              "      <th>197</th>\n",
              "      <td>MICHAEL</td>\n",
              "    </tr>\n",
              "    <tr>\n",
              "      <th>198</th>\n",
              "      <td>ALVARO</td>\n",
              "    </tr>\n",
              "    <tr>\n",
              "      <th>199</th>\n",
              "      <td>GEOVANE</td>\n",
              "    </tr>\n",
              "  </tbody>\n",
              "</table>\n",
              "<p>400 rows × 1 columns</p>\n",
              "</div>"
            ],
            "text/plain": [
              "          nome\n",
              "0        MARIA\n",
              "1          ANA\n",
              "2    FRANCISCA\n",
              "3      ANTONIA\n",
              "4      ADRIANA\n",
              "..         ...\n",
              "195     WALTER\n",
              "196    ARLINDO\n",
              "197    MICHAEL\n",
              "198     ALVARO\n",
              "199    GEOVANE\n",
              "\n",
              "[400 rows x 1 columns]"
            ]
          },
          "metadata": {},
          "execution_count": 8
        }
      ]
    },
    {
      "cell_type": "code",
      "metadata": {
        "colab": {
          "base_uri": "https://localhost:8080/",
          "height": 204
        },
        "id": "2fBCgwl3j6rL",
        "outputId": "c769db27-5026-4dbc-dc7f-c243a7e00a93"
      },
      "source": [
        "#Amostra\n",
        "nomes.sample(5)"
      ],
      "execution_count": 9,
      "outputs": [
        {
          "output_type": "execute_result",
          "data": {
            "text/html": [
              "<div>\n",
              "<style scoped>\n",
              "    .dataframe tbody tr th:only-of-type {\n",
              "        vertical-align: middle;\n",
              "    }\n",
              "\n",
              "    .dataframe tbody tr th {\n",
              "        vertical-align: top;\n",
              "    }\n",
              "\n",
              "    .dataframe thead th {\n",
              "        text-align: right;\n",
              "    }\n",
              "</style>\n",
              "<table border=\"1\" class=\"dataframe\">\n",
              "  <thead>\n",
              "    <tr style=\"text-align: right;\">\n",
              "      <th></th>\n",
              "      <th>nome</th>\n",
              "    </tr>\n",
              "  </thead>\n",
              "  <tbody>\n",
              "    <tr>\n",
              "      <th>110</th>\n",
              "      <td>LUCIENE</td>\n",
              "    </tr>\n",
              "    <tr>\n",
              "      <th>95</th>\n",
              "      <td>ALESSANDRO</td>\n",
              "    </tr>\n",
              "    <tr>\n",
              "      <th>55</th>\n",
              "      <td>FLAVIO</td>\n",
              "    </tr>\n",
              "    <tr>\n",
              "      <th>187</th>\n",
              "      <td>ELTON</td>\n",
              "    </tr>\n",
              "    <tr>\n",
              "      <th>157</th>\n",
              "      <td>JAIME</td>\n",
              "    </tr>\n",
              "  </tbody>\n",
              "</table>\n",
              "</div>"
            ],
            "text/plain": [
              "           nome\n",
              "110     LUCIENE\n",
              "95   ALESSANDRO\n",
              "55       FLAVIO\n",
              "187       ELTON\n",
              "157       JAIME"
            ]
          },
          "metadata": {},
          "execution_count": 9
        }
      ]
    },
    {
      "cell_type": "markdown",
      "metadata": {
        "id": "SjAy9ov4kNT5"
      },
      "source": [
        "#Identificação dos alunos"
      ]
    },
    {
      "cell_type": "code",
      "metadata": {
        "id": "96WQgdCZkZbj"
      },
      "source": [
        "import numpy as np"
      ],
      "execution_count": 10,
      "outputs": []
    },
    {
      "cell_type": "code",
      "metadata": {
        "id": "4XJcM7h-kbdK"
      },
      "source": [
        "np.random.seed(123)"
      ],
      "execution_count": 11,
      "outputs": []
    },
    {
      "cell_type": "code",
      "metadata": {
        "colab": {
          "base_uri": "https://localhost:8080/"
        },
        "id": "FxOZB-azkffA",
        "outputId": "05886660-859f-4edb-c833-9899fbdc1277"
      },
      "source": [
        "totalAlunos = len(dfNomes)\n",
        "totalAlunos"
      ],
      "execution_count": 12,
      "outputs": [
        {
          "output_type": "execute_result",
          "data": {
            "text/plain": [
              "400"
            ]
          },
          "metadata": {},
          "execution_count": 12
        }
      ]
    },
    {
      "cell_type": "code",
      "metadata": {
        "colab": {
          "base_uri": "https://localhost:8080/",
          "height": 419
        },
        "id": "cQKBMRltkklY",
        "outputId": "398c8df6-8355-4cae-dff2-4f6cfef7c0be"
      },
      "source": [
        "dfNomes['id_aluno'] = np.random.permutation(totalAlunos)+1\n",
        "dfNomes"
      ],
      "execution_count": 13,
      "outputs": [
        {
          "output_type": "execute_result",
          "data": {
            "text/html": [
              "<div>\n",
              "<style scoped>\n",
              "    .dataframe tbody tr th:only-of-type {\n",
              "        vertical-align: middle;\n",
              "    }\n",
              "\n",
              "    .dataframe tbody tr th {\n",
              "        vertical-align: top;\n",
              "    }\n",
              "\n",
              "    .dataframe thead th {\n",
              "        text-align: right;\n",
              "    }\n",
              "</style>\n",
              "<table border=\"1\" class=\"dataframe\">\n",
              "  <thead>\n",
              "    <tr style=\"text-align: right;\">\n",
              "      <th></th>\n",
              "      <th>nome</th>\n",
              "      <th>id_aluno</th>\n",
              "    </tr>\n",
              "  </thead>\n",
              "  <tbody>\n",
              "    <tr>\n",
              "      <th>0</th>\n",
              "      <td>MARIA</td>\n",
              "      <td>235</td>\n",
              "    </tr>\n",
              "    <tr>\n",
              "      <th>1</th>\n",
              "      <td>ANA</td>\n",
              "      <td>43</td>\n",
              "    </tr>\n",
              "    <tr>\n",
              "      <th>2</th>\n",
              "      <td>FRANCISCA</td>\n",
              "      <td>304</td>\n",
              "    </tr>\n",
              "    <tr>\n",
              "      <th>3</th>\n",
              "      <td>ANTONIA</td>\n",
              "      <td>156</td>\n",
              "    </tr>\n",
              "    <tr>\n",
              "      <th>4</th>\n",
              "      <td>ADRIANA</td>\n",
              "      <td>343</td>\n",
              "    </tr>\n",
              "    <tr>\n",
              "      <th>...</th>\n",
              "      <td>...</td>\n",
              "      <td>...</td>\n",
              "    </tr>\n",
              "    <tr>\n",
              "      <th>195</th>\n",
              "      <td>WALTER</td>\n",
              "      <td>231</td>\n",
              "    </tr>\n",
              "    <tr>\n",
              "      <th>196</th>\n",
              "      <td>ARLINDO</td>\n",
              "      <td>99</td>\n",
              "    </tr>\n",
              "    <tr>\n",
              "      <th>197</th>\n",
              "      <td>MICHAEL</td>\n",
              "      <td>323</td>\n",
              "    </tr>\n",
              "    <tr>\n",
              "      <th>198</th>\n",
              "      <td>ALVARO</td>\n",
              "      <td>383</td>\n",
              "    </tr>\n",
              "    <tr>\n",
              "      <th>199</th>\n",
              "      <td>GEOVANE</td>\n",
              "      <td>366</td>\n",
              "    </tr>\n",
              "  </tbody>\n",
              "</table>\n",
              "<p>400 rows × 2 columns</p>\n",
              "</div>"
            ],
            "text/plain": [
              "          nome  id_aluno\n",
              "0        MARIA       235\n",
              "1          ANA        43\n",
              "2    FRANCISCA       304\n",
              "3      ANTONIA       156\n",
              "4      ADRIANA       343\n",
              "..         ...       ...\n",
              "195     WALTER       231\n",
              "196    ARLINDO        99\n",
              "197    MICHAEL       323\n",
              "198     ALVARO       383\n",
              "199    GEOVANE       366\n",
              "\n",
              "[400 rows x 2 columns]"
            ]
          },
          "metadata": {},
          "execution_count": 13
        }
      ]
    },
    {
      "cell_type": "code",
      "metadata": {
        "colab": {
          "base_uri": "https://localhost:8080/",
          "height": 419
        },
        "id": "ASKfKxJbkxxa",
        "outputId": "faf39b74-07dd-4077-d3f4-f3c3b324e17d"
      },
      "source": [
        "dfNomes = dfNomes[['id_aluno','nome']]\n",
        "dfNomes"
      ],
      "execution_count": 14,
      "outputs": [
        {
          "output_type": "execute_result",
          "data": {
            "text/html": [
              "<div>\n",
              "<style scoped>\n",
              "    .dataframe tbody tr th:only-of-type {\n",
              "        vertical-align: middle;\n",
              "    }\n",
              "\n",
              "    .dataframe tbody tr th {\n",
              "        vertical-align: top;\n",
              "    }\n",
              "\n",
              "    .dataframe thead th {\n",
              "        text-align: right;\n",
              "    }\n",
              "</style>\n",
              "<table border=\"1\" class=\"dataframe\">\n",
              "  <thead>\n",
              "    <tr style=\"text-align: right;\">\n",
              "      <th></th>\n",
              "      <th>id_aluno</th>\n",
              "      <th>nome</th>\n",
              "    </tr>\n",
              "  </thead>\n",
              "  <tbody>\n",
              "    <tr>\n",
              "      <th>0</th>\n",
              "      <td>235</td>\n",
              "      <td>MARIA</td>\n",
              "    </tr>\n",
              "    <tr>\n",
              "      <th>1</th>\n",
              "      <td>43</td>\n",
              "      <td>ANA</td>\n",
              "    </tr>\n",
              "    <tr>\n",
              "      <th>2</th>\n",
              "      <td>304</td>\n",
              "      <td>FRANCISCA</td>\n",
              "    </tr>\n",
              "    <tr>\n",
              "      <th>3</th>\n",
              "      <td>156</td>\n",
              "      <td>ANTONIA</td>\n",
              "    </tr>\n",
              "    <tr>\n",
              "      <th>4</th>\n",
              "      <td>343</td>\n",
              "      <td>ADRIANA</td>\n",
              "    </tr>\n",
              "    <tr>\n",
              "      <th>...</th>\n",
              "      <td>...</td>\n",
              "      <td>...</td>\n",
              "    </tr>\n",
              "    <tr>\n",
              "      <th>195</th>\n",
              "      <td>231</td>\n",
              "      <td>WALTER</td>\n",
              "    </tr>\n",
              "    <tr>\n",
              "      <th>196</th>\n",
              "      <td>99</td>\n",
              "      <td>ARLINDO</td>\n",
              "    </tr>\n",
              "    <tr>\n",
              "      <th>197</th>\n",
              "      <td>323</td>\n",
              "      <td>MICHAEL</td>\n",
              "    </tr>\n",
              "    <tr>\n",
              "      <th>198</th>\n",
              "      <td>383</td>\n",
              "      <td>ALVARO</td>\n",
              "    </tr>\n",
              "    <tr>\n",
              "      <th>199</th>\n",
              "      <td>366</td>\n",
              "      <td>GEOVANE</td>\n",
              "    </tr>\n",
              "  </tbody>\n",
              "</table>\n",
              "<p>400 rows × 2 columns</p>\n",
              "</div>"
            ],
            "text/plain": [
              "     id_aluno       nome\n",
              "0         235      MARIA\n",
              "1          43        ANA\n",
              "2         304  FRANCISCA\n",
              "3         156    ANTONIA\n",
              "4         343    ADRIANA\n",
              "..        ...        ...\n",
              "195       231     WALTER\n",
              "196        99    ARLINDO\n",
              "197       323    MICHAEL\n",
              "198       383     ALVARO\n",
              "199       366    GEOVANE\n",
              "\n",
              "[400 rows x 2 columns]"
            ]
          },
          "metadata": {},
          "execution_count": 14
        }
      ]
    },
    {
      "cell_type": "code",
      "metadata": {
        "colab": {
          "base_uri": "https://localhost:8080/",
          "height": 204
        },
        "id": "US2kWm1vk6s4",
        "outputId": "603e06c9-d172-4daa-b3bc-fa31119c7cce"
      },
      "source": [
        "dfNomes.sample(5)"
      ],
      "execution_count": 15,
      "outputs": [
        {
          "output_type": "execute_result",
          "data": {
            "text/html": [
              "<div>\n",
              "<style scoped>\n",
              "    .dataframe tbody tr th:only-of-type {\n",
              "        vertical-align: middle;\n",
              "    }\n",
              "\n",
              "    .dataframe tbody tr th {\n",
              "        vertical-align: top;\n",
              "    }\n",
              "\n",
              "    .dataframe thead th {\n",
              "        text-align: right;\n",
              "    }\n",
              "</style>\n",
              "<table border=\"1\" class=\"dataframe\">\n",
              "  <thead>\n",
              "    <tr style=\"text-align: right;\">\n",
              "      <th></th>\n",
              "      <th>id_aluno</th>\n",
              "      <th>nome</th>\n",
              "    </tr>\n",
              "  </thead>\n",
              "  <tbody>\n",
              "    <tr>\n",
              "      <th>188</th>\n",
              "      <td>369</td>\n",
              "      <td>POLIANA</td>\n",
              "    </tr>\n",
              "    <tr>\n",
              "      <th>57</th>\n",
              "      <td>303</td>\n",
              "      <td>DAIANE</td>\n",
              "    </tr>\n",
              "    <tr>\n",
              "      <th>3</th>\n",
              "      <td>382</td>\n",
              "      <td>FRANCISCO</td>\n",
              "    </tr>\n",
              "    <tr>\n",
              "      <th>182</th>\n",
              "      <td>33</td>\n",
              "      <td>CHARLES</td>\n",
              "    </tr>\n",
              "    <tr>\n",
              "      <th>30</th>\n",
              "      <td>111</td>\n",
              "      <td>ANDERSON</td>\n",
              "    </tr>\n",
              "  </tbody>\n",
              "</table>\n",
              "</div>"
            ],
            "text/plain": [
              "     id_aluno       nome\n",
              "188       369    POLIANA\n",
              "57        303     DAIANE\n",
              "3         382  FRANCISCO\n",
              "182        33    CHARLES\n",
              "30        111   ANDERSON"
            ]
          },
          "metadata": {},
          "execution_count": 15
        }
      ]
    },
    {
      "cell_type": "code",
      "metadata": {
        "colab": {
          "base_uri": "https://localhost:8080/",
          "height": 541
        },
        "id": "ULcMvKWJlCGo",
        "outputId": "304ca821-c709-4e32-95a7-f5e92570e79e"
      },
      "source": [
        "dominios = ['@dominiodoemail.com.br','@servicodoemail.com']\n",
        "dfNomes['dominio'] = np.random.choice(dominios, totalAlunos)\n",
        "dfNomes"
      ],
      "execution_count": 16,
      "outputs": [
        {
          "output_type": "stream",
          "name": "stderr",
          "text": [
            "/usr/local/lib/python3.7/dist-packages/ipykernel_launcher.py:2: SettingWithCopyWarning: \n",
            "A value is trying to be set on a copy of a slice from a DataFrame.\n",
            "Try using .loc[row_indexer,col_indexer] = value instead\n",
            "\n",
            "See the caveats in the documentation: https://pandas.pydata.org/pandas-docs/stable/user_guide/indexing.html#returning-a-view-versus-a-copy\n",
            "  \n"
          ]
        },
        {
          "output_type": "execute_result",
          "data": {
            "text/html": [
              "<div>\n",
              "<style scoped>\n",
              "    .dataframe tbody tr th:only-of-type {\n",
              "        vertical-align: middle;\n",
              "    }\n",
              "\n",
              "    .dataframe tbody tr th {\n",
              "        vertical-align: top;\n",
              "    }\n",
              "\n",
              "    .dataframe thead th {\n",
              "        text-align: right;\n",
              "    }\n",
              "</style>\n",
              "<table border=\"1\" class=\"dataframe\">\n",
              "  <thead>\n",
              "    <tr style=\"text-align: right;\">\n",
              "      <th></th>\n",
              "      <th>id_aluno</th>\n",
              "      <th>nome</th>\n",
              "      <th>dominio</th>\n",
              "    </tr>\n",
              "  </thead>\n",
              "  <tbody>\n",
              "    <tr>\n",
              "      <th>0</th>\n",
              "      <td>235</td>\n",
              "      <td>MARIA</td>\n",
              "      <td>@dominiodoemail.com.br</td>\n",
              "    </tr>\n",
              "    <tr>\n",
              "      <th>1</th>\n",
              "      <td>43</td>\n",
              "      <td>ANA</td>\n",
              "      <td>@servicodoemail.com</td>\n",
              "    </tr>\n",
              "    <tr>\n",
              "      <th>2</th>\n",
              "      <td>304</td>\n",
              "      <td>FRANCISCA</td>\n",
              "      <td>@servicodoemail.com</td>\n",
              "    </tr>\n",
              "    <tr>\n",
              "      <th>3</th>\n",
              "      <td>156</td>\n",
              "      <td>ANTONIA</td>\n",
              "      <td>@dominiodoemail.com.br</td>\n",
              "    </tr>\n",
              "    <tr>\n",
              "      <th>4</th>\n",
              "      <td>343</td>\n",
              "      <td>ADRIANA</td>\n",
              "      <td>@servicodoemail.com</td>\n",
              "    </tr>\n",
              "    <tr>\n",
              "      <th>...</th>\n",
              "      <td>...</td>\n",
              "      <td>...</td>\n",
              "      <td>...</td>\n",
              "    </tr>\n",
              "    <tr>\n",
              "      <th>195</th>\n",
              "      <td>231</td>\n",
              "      <td>WALTER</td>\n",
              "      <td>@dominiodoemail.com.br</td>\n",
              "    </tr>\n",
              "    <tr>\n",
              "      <th>196</th>\n",
              "      <td>99</td>\n",
              "      <td>ARLINDO</td>\n",
              "      <td>@servicodoemail.com</td>\n",
              "    </tr>\n",
              "    <tr>\n",
              "      <th>197</th>\n",
              "      <td>323</td>\n",
              "      <td>MICHAEL</td>\n",
              "      <td>@dominiodoemail.com.br</td>\n",
              "    </tr>\n",
              "    <tr>\n",
              "      <th>198</th>\n",
              "      <td>383</td>\n",
              "      <td>ALVARO</td>\n",
              "      <td>@dominiodoemail.com.br</td>\n",
              "    </tr>\n",
              "    <tr>\n",
              "      <th>199</th>\n",
              "      <td>366</td>\n",
              "      <td>GEOVANE</td>\n",
              "      <td>@servicodoemail.com</td>\n",
              "    </tr>\n",
              "  </tbody>\n",
              "</table>\n",
              "<p>400 rows × 3 columns</p>\n",
              "</div>"
            ],
            "text/plain": [
              "     id_aluno       nome                 dominio\n",
              "0         235      MARIA  @dominiodoemail.com.br\n",
              "1          43        ANA     @servicodoemail.com\n",
              "2         304  FRANCISCA     @servicodoemail.com\n",
              "3         156    ANTONIA  @dominiodoemail.com.br\n",
              "4         343    ADRIANA     @servicodoemail.com\n",
              "..        ...        ...                     ...\n",
              "195       231     WALTER  @dominiodoemail.com.br\n",
              "196        99    ARLINDO     @servicodoemail.com\n",
              "197       323    MICHAEL  @dominiodoemail.com.br\n",
              "198       383     ALVARO  @dominiodoemail.com.br\n",
              "199       366    GEOVANE     @servicodoemail.com\n",
              "\n",
              "[400 rows x 3 columns]"
            ]
          },
          "metadata": {},
          "execution_count": 16
        }
      ]
    },
    {
      "cell_type": "code",
      "metadata": {
        "colab": {
          "base_uri": "https://localhost:8080/",
          "height": 541
        },
        "id": "RejBJV_lls7o",
        "outputId": "e5834c65-c7af-4e15-a128-a2f5cea6e638"
      },
      "source": [
        "dfNomes['e-mail'] = dfNomes.nome.str.cat(dfNomes.dominio).str.lower()\n",
        "dfNomes"
      ],
      "execution_count": 17,
      "outputs": [
        {
          "output_type": "stream",
          "name": "stderr",
          "text": [
            "/usr/local/lib/python3.7/dist-packages/ipykernel_launcher.py:1: SettingWithCopyWarning: \n",
            "A value is trying to be set on a copy of a slice from a DataFrame.\n",
            "Try using .loc[row_indexer,col_indexer] = value instead\n",
            "\n",
            "See the caveats in the documentation: https://pandas.pydata.org/pandas-docs/stable/user_guide/indexing.html#returning-a-view-versus-a-copy\n",
            "  \"\"\"Entry point for launching an IPython kernel.\n"
          ]
        },
        {
          "output_type": "execute_result",
          "data": {
            "text/html": [
              "<div>\n",
              "<style scoped>\n",
              "    .dataframe tbody tr th:only-of-type {\n",
              "        vertical-align: middle;\n",
              "    }\n",
              "\n",
              "    .dataframe tbody tr th {\n",
              "        vertical-align: top;\n",
              "    }\n",
              "\n",
              "    .dataframe thead th {\n",
              "        text-align: right;\n",
              "    }\n",
              "</style>\n",
              "<table border=\"1\" class=\"dataframe\">\n",
              "  <thead>\n",
              "    <tr style=\"text-align: right;\">\n",
              "      <th></th>\n",
              "      <th>id_aluno</th>\n",
              "      <th>nome</th>\n",
              "      <th>dominio</th>\n",
              "      <th>e-mail</th>\n",
              "    </tr>\n",
              "  </thead>\n",
              "  <tbody>\n",
              "    <tr>\n",
              "      <th>0</th>\n",
              "      <td>235</td>\n",
              "      <td>MARIA</td>\n",
              "      <td>@dominiodoemail.com.br</td>\n",
              "      <td>maria@dominiodoemail.com.br</td>\n",
              "    </tr>\n",
              "    <tr>\n",
              "      <th>1</th>\n",
              "      <td>43</td>\n",
              "      <td>ANA</td>\n",
              "      <td>@servicodoemail.com</td>\n",
              "      <td>ana@servicodoemail.com</td>\n",
              "    </tr>\n",
              "    <tr>\n",
              "      <th>2</th>\n",
              "      <td>304</td>\n",
              "      <td>FRANCISCA</td>\n",
              "      <td>@servicodoemail.com</td>\n",
              "      <td>francisca@servicodoemail.com</td>\n",
              "    </tr>\n",
              "    <tr>\n",
              "      <th>3</th>\n",
              "      <td>156</td>\n",
              "      <td>ANTONIA</td>\n",
              "      <td>@dominiodoemail.com.br</td>\n",
              "      <td>antonia@dominiodoemail.com.br</td>\n",
              "    </tr>\n",
              "    <tr>\n",
              "      <th>4</th>\n",
              "      <td>343</td>\n",
              "      <td>ADRIANA</td>\n",
              "      <td>@servicodoemail.com</td>\n",
              "      <td>adriana@servicodoemail.com</td>\n",
              "    </tr>\n",
              "    <tr>\n",
              "      <th>...</th>\n",
              "      <td>...</td>\n",
              "      <td>...</td>\n",
              "      <td>...</td>\n",
              "      <td>...</td>\n",
              "    </tr>\n",
              "    <tr>\n",
              "      <th>195</th>\n",
              "      <td>231</td>\n",
              "      <td>WALTER</td>\n",
              "      <td>@dominiodoemail.com.br</td>\n",
              "      <td>walter@dominiodoemail.com.br</td>\n",
              "    </tr>\n",
              "    <tr>\n",
              "      <th>196</th>\n",
              "      <td>99</td>\n",
              "      <td>ARLINDO</td>\n",
              "      <td>@servicodoemail.com</td>\n",
              "      <td>arlindo@servicodoemail.com</td>\n",
              "    </tr>\n",
              "    <tr>\n",
              "      <th>197</th>\n",
              "      <td>323</td>\n",
              "      <td>MICHAEL</td>\n",
              "      <td>@dominiodoemail.com.br</td>\n",
              "      <td>michael@dominiodoemail.com.br</td>\n",
              "    </tr>\n",
              "    <tr>\n",
              "      <th>198</th>\n",
              "      <td>383</td>\n",
              "      <td>ALVARO</td>\n",
              "      <td>@dominiodoemail.com.br</td>\n",
              "      <td>alvaro@dominiodoemail.com.br</td>\n",
              "    </tr>\n",
              "    <tr>\n",
              "      <th>199</th>\n",
              "      <td>366</td>\n",
              "      <td>GEOVANE</td>\n",
              "      <td>@servicodoemail.com</td>\n",
              "      <td>geovane@servicodoemail.com</td>\n",
              "    </tr>\n",
              "  </tbody>\n",
              "</table>\n",
              "<p>400 rows × 4 columns</p>\n",
              "</div>"
            ],
            "text/plain": [
              "     id_aluno       nome                 dominio                         e-mail\n",
              "0         235      MARIA  @dominiodoemail.com.br    maria@dominiodoemail.com.br\n",
              "1          43        ANA     @servicodoemail.com         ana@servicodoemail.com\n",
              "2         304  FRANCISCA     @servicodoemail.com   francisca@servicodoemail.com\n",
              "3         156    ANTONIA  @dominiodoemail.com.br  antonia@dominiodoemail.com.br\n",
              "4         343    ADRIANA     @servicodoemail.com     adriana@servicodoemail.com\n",
              "..        ...        ...                     ...                            ...\n",
              "195       231     WALTER  @dominiodoemail.com.br   walter@dominiodoemail.com.br\n",
              "196        99    ARLINDO     @servicodoemail.com     arlindo@servicodoemail.com\n",
              "197       323    MICHAEL  @dominiodoemail.com.br  michael@dominiodoemail.com.br\n",
              "198       383     ALVARO  @dominiodoemail.com.br   alvaro@dominiodoemail.com.br\n",
              "199       366    GEOVANE     @servicodoemail.com     geovane@servicodoemail.com\n",
              "\n",
              "[400 rows x 4 columns]"
            ]
          },
          "metadata": {},
          "execution_count": 17
        }
      ]
    }
  ]
}